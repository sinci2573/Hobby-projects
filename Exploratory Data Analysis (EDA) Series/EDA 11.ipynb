{
 "cells": [
  {
   "cell_type": "code",
   "execution_count": 10,
   "id": "9e7ffa51-adb3-4791-9029-ff58fc7e972a",
   "metadata": {},
   "outputs": [
    {
     "name": "stdout",
     "output_type": "stream",
     "text": [
      "   First Score  Second Score  Third Score\n",
      "0        100.0          30.0          NaN\n",
      "1         90.0          45.0         40.0\n",
      "2          NaN          56.0         89.0\n",
      "3         95.0           NaN         90.0\n"
     ]
    }
   ],
   "source": [
    "import pandas as pd\n",
    "import numpy as np\n",
    "dict={'First Score':[100,90,np.nan,95],'Second Score':[30,45,56,np.nan],'Third Score':[np.nan,40,89,90]}\n",
    "df=pd.DataFrame(dict)\n",
    "print(df)"
   ]
  },
  {
   "cell_type": "code",
   "execution_count": 12,
   "id": "22d1e95b-d08b-407e-bb5a-cabfdb294b75",
   "metadata": {},
   "outputs": [
    {
     "data": {
      "text/html": [
       "<div>\n",
       "<style scoped>\n",
       "    .dataframe tbody tr th:only-of-type {\n",
       "        vertical-align: middle;\n",
       "    }\n",
       "\n",
       "    .dataframe tbody tr th {\n",
       "        vertical-align: top;\n",
       "    }\n",
       "\n",
       "    .dataframe thead th {\n",
       "        text-align: right;\n",
       "    }\n",
       "</style>\n",
       "<table border=\"1\" class=\"dataframe\">\n",
       "  <thead>\n",
       "    <tr style=\"text-align: right;\">\n",
       "      <th></th>\n",
       "      <th>First Score</th>\n",
       "      <th>Second Score</th>\n",
       "      <th>Third Score</th>\n",
       "    </tr>\n",
       "  </thead>\n",
       "  <tbody>\n",
       "    <tr>\n",
       "      <th>count</th>\n",
       "      <td>3.0</td>\n",
       "      <td>3.000000</td>\n",
       "      <td>3.000000</td>\n",
       "    </tr>\n",
       "    <tr>\n",
       "      <th>mean</th>\n",
       "      <td>95.0</td>\n",
       "      <td>43.666667</td>\n",
       "      <td>73.000000</td>\n",
       "    </tr>\n",
       "    <tr>\n",
       "      <th>std</th>\n",
       "      <td>5.0</td>\n",
       "      <td>13.051181</td>\n",
       "      <td>28.583212</td>\n",
       "    </tr>\n",
       "    <tr>\n",
       "      <th>min</th>\n",
       "      <td>90.0</td>\n",
       "      <td>30.000000</td>\n",
       "      <td>40.000000</td>\n",
       "    </tr>\n",
       "    <tr>\n",
       "      <th>25%</th>\n",
       "      <td>92.5</td>\n",
       "      <td>37.500000</td>\n",
       "      <td>64.500000</td>\n",
       "    </tr>\n",
       "    <tr>\n",
       "      <th>50%</th>\n",
       "      <td>95.0</td>\n",
       "      <td>45.000000</td>\n",
       "      <td>89.000000</td>\n",
       "    </tr>\n",
       "    <tr>\n",
       "      <th>75%</th>\n",
       "      <td>97.5</td>\n",
       "      <td>50.500000</td>\n",
       "      <td>89.500000</td>\n",
       "    </tr>\n",
       "    <tr>\n",
       "      <th>max</th>\n",
       "      <td>100.0</td>\n",
       "      <td>56.000000</td>\n",
       "      <td>90.000000</td>\n",
       "    </tr>\n",
       "  </tbody>\n",
       "</table>\n",
       "</div>"
      ],
      "text/plain": [
       "       First Score  Second Score  Third Score\n",
       "count          3.0      3.000000     3.000000\n",
       "mean          95.0     43.666667    73.000000\n",
       "std            5.0     13.051181    28.583212\n",
       "min           90.0     30.000000    40.000000\n",
       "25%           92.5     37.500000    64.500000\n",
       "50%           95.0     45.000000    89.000000\n",
       "75%           97.5     50.500000    89.500000\n",
       "max          100.0     56.000000    90.000000"
      ]
     },
     "execution_count": 12,
     "metadata": {},
     "output_type": "execute_result"
    }
   ],
   "source": [
    "df.describe()"
   ]
  },
  {
   "cell_type": "code",
   "execution_count": 25,
   "id": "b50a73ae-0c75-4e39-a142-bceba4241cca",
   "metadata": {},
   "outputs": [
    {
     "data": {
      "text/plain": [
       "0    100.0\n",
       "1     90.0\n",
       "2     95.0\n",
       "3     95.0\n",
       "Name: First Score, dtype: float64"
      ]
     },
     "execution_count": 25,
     "metadata": {},
     "output_type": "execute_result"
    }
   ],
   "source": [
    "df['First Score'].fillna(df['First Score'].mean())"
   ]
  },
  {
   "cell_type": "code",
   "execution_count": 29,
   "id": "c174d5dd-5e7c-412c-b739-9ca3b3029f9b",
   "metadata": {},
   "outputs": [
    {
     "data": {
      "text/plain": [
       "0    30.0\n",
       "1    45.0\n",
       "2    56.0\n",
       "3    45.0\n",
       "Name: Second Score, dtype: float64"
      ]
     },
     "execution_count": 29,
     "metadata": {},
     "output_type": "execute_result"
    }
   ],
   "source": [
    "df['Second Score'].fillna(df['Second Score'].median())"
   ]
  },
  {
   "cell_type": "code",
   "execution_count": 33,
   "id": "88faadf7-34ec-4fe3-b1dd-f47e378f5225",
   "metadata": {},
   "outputs": [
    {
     "data": {
      "text/plain": [
       "0    40.0\n",
       "1    40.0\n",
       "2    89.0\n",
       "3    90.0\n",
       "Name: Third Score, dtype: float64"
      ]
     },
     "execution_count": 33,
     "metadata": {},
     "output_type": "execute_result"
    }
   ],
   "source": [
    "df['Third Score'].fillna(df['Third Score'].mode())"
   ]
  },
  {
   "cell_type": "code",
   "execution_count": 35,
   "id": "29d6861b-d0be-4075-9a2b-1d1a861a7a1c",
   "metadata": {},
   "outputs": [
    {
     "name": "stdout",
     "output_type": "stream",
     "text": [
      "   First Score  Second Score  Third Score\n",
      "0        100.0          30.0         40.0\n",
      "1         90.0          45.0         40.0\n",
      "2         95.0          56.0         89.0\n",
      "3         95.0          45.0         90.0\n"
     ]
    }
   ],
   "source": [
    "print(df)"
   ]
  },
  {
   "cell_type": "code",
   "execution_count": 73,
   "id": "13ddad57-cba1-4d0f-9b85-a38d8f36ef54",
   "metadata": {},
   "outputs": [
    {
     "data": {
      "text/plain": [
       "array([-0.49604737, -0.19841895, -0.19841895, -0.19841895,  0.09920947,\n",
       "       -0.49604737, -0.49604737,  3.67075053, -0.19841895, -0.19841895,\n",
       "       -0.19841895,  0.09920947, -0.49604737, -0.49604737, -0.19841895])"
      ]
     },
     "execution_count": 73,
     "metadata": {},
     "output_type": "execute_result"
    }
   ],
   "source": [
    "data=[1,2,2,2,3,1,1,15,2,2,2,3,1,1,2]\n",
    "from scipy import stats\n",
    "stats.zscore(data)"
   ]
  },
  {
   "cell_type": "code",
   "execution_count": 87,
   "id": "2836c623-e585-4741-96c2-466d21944988",
   "metadata": {},
   "outputs": [
    {
     "name": "stdout",
     "output_type": "stream",
     "text": [
      "Q1:  7.25 \n",
      "Q3:  20.25\n"
     ]
    }
   ],
   "source": [
    "import numpy as np\n",
    "newdata=[2,5,7,8,12,15,18,21,24,30]\n",
    "Q1 = np.percentile(newdata, 25)\n",
    "Q3 = np.percentile(newdata, 75)\n",
    "print(\"Q1: \",Q1,\"\\nQ3: \",Q3)"
   ]
  },
  {
   "cell_type": "code",
   "execution_count": 105,
   "id": "8aba6f14-2273-4b19-a98e-c2ab849fd894",
   "metadata": {},
   "outputs": [
    {
     "name": "stdout",
     "output_type": "stream",
     "text": [
      "Interquartile range:  13.0\n",
      "Lower bound:  -12.25\n",
      "Upper bound:  39.75\n",
      "Outlier:  [3000, 15000, 300]\n"
     ]
    }
   ],
   "source": [
    "IQR = Q3 - Q1\n",
    "lower_bound = Q1 - 1.5 * IQR\n",
    "upper_bound = Q3 + 1.5 * IQR\n",
    "print(\"Interquartile range: \",IQR)\n",
    "print(\"Lower bound: \",lower_bound)\n",
    "print(\"Upper bound: \",upper_bound)\n",
    "\n",
    "outlier=[]\n",
    "for x in data:\n",
    "    if((x>upper_bound) or (x<lower_bound)):\n",
    "        outlier.append(x)\n",
    "print(\"Outlier: \",outlier)"
   ]
  },
  {
   "cell_type": "code",
   "execution_count": 124,
   "id": "939c37d3-d816-4dc9-be3c-a2436d658f2e",
   "metadata": {},
   "outputs": [
    {
     "name": "stdout",
     "output_type": "stream",
     "text": [
      "[    1     1     1     1     1     2     2     2     2     2     2     2\n",
      "   300  3000 15000]\n",
      "1.0\n"
     ]
    }
   ],
   "source": [
    "data=[1,2,2,2,3000,1,1,15000,2,2,2,300,1,1,2]\n",
    "sort_data=np.sort(data)\n",
    "print(sort_data)\n",
    "from scipy import stats\n",
    "IQR=stats.iqr(sort_data,interpolation='midpoint')\n",
    "print(IQR)"
   ]
  },
  {
   "cell_type": "code",
   "execution_count": 126,
   "id": "6e627fcb-c8a8-4b0a-b3e6-8688855af9b5",
   "metadata": {},
   "outputs": [
    {
     "name": "stdout",
     "output_type": "stream",
     "text": [
      "Q1:  8.0 \n",
      "Q3:  12.0\n"
     ]
    }
   ],
   "source": [
    "new_data=[0,0,2,8,8,8,9,9,10,10,11,12,12,12,14,15,20,25]\n",
    "Q1 = np.percentile(new_data, 25)\n",
    "Q3 = np.percentile(new_data, 75)\n",
    "print(\"Q1: \",Q1,\"\\nQ3: \",Q3)"
   ]
  },
  {
   "cell_type": "code",
   "execution_count": 132,
   "id": "04dbf7a9-a6c2-4eac-8e08-87444f677c82",
   "metadata": {},
   "outputs": [
    {
     "name": "stdout",
     "output_type": "stream",
     "text": [
      "Interquartile range:  4.0\n",
      "Lower bound:  2.0\n",
      "Upper bound:  18.0\n",
      "Outlier:  [0, 0, 20, 25]\n"
     ]
    }
   ],
   "source": [
    "IQR=Q3-Q1\n",
    "IQR = Q3 - Q1\n",
    "lower_bound = Q1 - 1.5 * IQR\n",
    "upper_bound = Q3 + 1.5 * IQR\n",
    "print(\"Interquartile range: \",IQR)\n",
    "print(\"Lower bound: \",lower_bound)\n",
    "print(\"Upper bound: \",upper_bound)\n",
    "\n",
    "outlier=[]\n",
    "for x in new_data:\n",
    "    if((x>upper_bound) or (x<lower_bound)):\n",
    "        outlier.append(x)\n",
    "print(\"Outlier: \",outlier)"
   ]
  }
 ],
 "metadata": {
  "kernelspec": {
   "display_name": "Python 3 (ipykernel)",
   "language": "python",
   "name": "python3"
  },
  "language_info": {
   "codemirror_mode": {
    "name": "ipython",
    "version": 3
   },
   "file_extension": ".py",
   "mimetype": "text/x-python",
   "name": "python",
   "nbconvert_exporter": "python",
   "pygments_lexer": "ipython3",
   "version": "3.12.4"
  }
 },
 "nbformat": 4,
 "nbformat_minor": 5
}
