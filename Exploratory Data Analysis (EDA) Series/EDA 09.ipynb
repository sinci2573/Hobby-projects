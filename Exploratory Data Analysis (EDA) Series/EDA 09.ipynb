{
 "cells": [
  {
   "cell_type": "code",
   "execution_count": 8,
   "id": "ec1ceabc-00c3-4046-ab48-8d1084cd68e8",
   "metadata": {},
   "outputs": [],
   "source": [
    "import pandas as pd\n",
    "df=pd.read_csv(\"C://Users//sinci//Downloads//product-new.csv\")"
   ]
  },
  {
   "cell_type": "code",
   "execution_count": 10,
   "id": "3115e847-bc5f-4657-a9c7-97d5ece1528d",
   "metadata": {},
   "outputs": [
    {
     "data": {
      "text/html": [
       "<div>\n",
       "<style scoped>\n",
       "    .dataframe tbody tr th:only-of-type {\n",
       "        vertical-align: middle;\n",
       "    }\n",
       "\n",
       "    .dataframe tbody tr th {\n",
       "        vertical-align: top;\n",
       "    }\n",
       "\n",
       "    .dataframe thead th {\n",
       "        text-align: right;\n",
       "    }\n",
       "</style>\n",
       "<table border=\"1\" class=\"dataframe\">\n",
       "  <thead>\n",
       "    <tr style=\"text-align: right;\">\n",
       "      <th></th>\n",
       "      <th>TransactionID</th>\n",
       "      <th>CustomerID</th>\n",
       "      <th>ProductCategory</th>\n",
       "      <th>Date</th>\n",
       "      <th>Quantity</th>\n",
       "      <th>SalesAmount</th>\n",
       "      <th>StoreLocation</th>\n",
       "    </tr>\n",
       "  </thead>\n",
       "  <tbody>\n",
       "    <tr>\n",
       "      <th>0</th>\n",
       "      <td>T001</td>\n",
       "      <td>C101</td>\n",
       "      <td>Electronics</td>\n",
       "      <td>1/15/2024</td>\n",
       "      <td>2</td>\n",
       "      <td>1200</td>\n",
       "      <td>New York</td>\n",
       "    </tr>\n",
       "    <tr>\n",
       "      <th>1</th>\n",
       "      <td>T002</td>\n",
       "      <td>C102</td>\n",
       "      <td>Clothing</td>\n",
       "      <td>1/16/2024</td>\n",
       "      <td>5</td>\n",
       "      <td>250</td>\n",
       "      <td>Los Angeles</td>\n",
       "    </tr>\n",
       "    <tr>\n",
       "      <th>2</th>\n",
       "      <td>T003</td>\n",
       "      <td>C103</td>\n",
       "      <td>Grocery</td>\n",
       "      <td>1/16/2024</td>\n",
       "      <td>10</td>\n",
       "      <td>50</td>\n",
       "      <td>Chicago</td>\n",
       "    </tr>\n",
       "    <tr>\n",
       "      <th>3</th>\n",
       "      <td>T004</td>\n",
       "      <td>C104</td>\n",
       "      <td>Furniture</td>\n",
       "      <td>1/17/2024</td>\n",
       "      <td>1</td>\n",
       "      <td>500</td>\n",
       "      <td>New York</td>\n",
       "    </tr>\n",
       "    <tr>\n",
       "      <th>4</th>\n",
       "      <td>T005</td>\n",
       "      <td>C101</td>\n",
       "      <td>Electronics</td>\n",
       "      <td>1/18/2024</td>\n",
       "      <td>1</td>\n",
       "      <td>800</td>\n",
       "      <td>Los Angeles</td>\n",
       "    </tr>\n",
       "  </tbody>\n",
       "</table>\n",
       "</div>"
      ],
      "text/plain": [
       "  TransactionID CustomerID ProductCategory       Date  Quantity  SalesAmount  \\\n",
       "0          T001       C101     Electronics  1/15/2024         2         1200   \n",
       "1          T002       C102        Clothing  1/16/2024         5          250   \n",
       "2          T003       C103         Grocery  1/16/2024        10           50   \n",
       "3          T004       C104       Furniture  1/17/2024         1          500   \n",
       "4          T005       C101     Electronics  1/18/2024         1          800   \n",
       "\n",
       "  StoreLocation  \n",
       "0      New York  \n",
       "1   Los Angeles  \n",
       "2       Chicago  \n",
       "3      New York  \n",
       "4   Los Angeles  "
      ]
     },
     "execution_count": 10,
     "metadata": {},
     "output_type": "execute_result"
    }
   ],
   "source": [
    "df.head()"
   ]
  },
  {
   "cell_type": "code",
   "execution_count": 12,
   "id": "3554ff6b-82e7-4872-a548-915890249c0f",
   "metadata": {},
   "outputs": [
    {
     "name": "stdout",
     "output_type": "stream",
     "text": [
      "  ProductCategory  Quantity  SalesAmount\n",
      "0        Clothing        25         1250\n",
      "1     Electronics         7         5600\n",
      "2       Furniture         5         2550\n",
      "3         Grocery        70          355\n"
     ]
    }
   ],
   "source": [
    "grouped_df = df.groupby('ProductCategory').agg({'Quantity': 'sum', 'SalesAmount': 'sum'}).reset_index()\n",
    "\n",
    "print(grouped_df)"
   ]
  },
  {
   "cell_type": "code",
   "execution_count": 14,
   "id": "a8b5731a-4681-4b7a-b902-82f6973bf9f6",
   "metadata": {},
   "outputs": [
    {
     "name": "stdout",
     "output_type": "stream",
     "text": [
      "  StoreLocation  Quantity  SalesAmount\n",
      "0       Chicago        40         2800\n",
      "1   Los Angeles        30         3440\n",
      "2      New York        37         3515\n"
     ]
    }
   ],
   "source": [
    "grouped_df = df.groupby('StoreLocation').agg({'Quantity': 'sum', 'SalesAmount': 'sum'}).reset_index()\n",
    "\n",
    "print(grouped_df)"
   ]
  },
  {
   "cell_type": "code",
   "execution_count": 16,
   "id": "5e1fd181-27db-438b-b962-528031a767f3",
   "metadata": {},
   "outputs": [
    {
     "name": "stdout",
     "output_type": "stream",
     "text": [
      "  ProductCategory  Quantity\n",
      "0        Clothing        25\n",
      "1     Electronics         7\n",
      "2       Furniture         5\n",
      "3         Grocery        70\n"
     ]
    }
   ],
   "source": [
    "grouped_df = df.groupby('ProductCategory').agg({'Quantity': 'sum'}).reset_index()\n",
    "\n",
    "print(grouped_df)"
   ]
  },
  {
   "cell_type": "code",
   "execution_count": 18,
   "id": "6a1ddea7-63d1-4773-a417-0e73fe778e94",
   "metadata": {},
   "outputs": [
    {
     "name": "stdout",
     "output_type": "stream",
     "text": [
      "ProductCategory    Furniture\n",
      "Quantity                   5\n",
      "Name: 2, dtype: object\n"
     ]
    }
   ],
   "source": [
    "grouped_df = df.groupby('ProductCategory').agg({'Quantity': 'sum'}).reset_index()\n",
    "\n",
    "min_quantity_product = grouped_df.loc[grouped_df['Quantity'].idxmin()]\n",
    "\n",
    "print(min_quantity_product)"
   ]
  },
  {
   "cell_type": "code",
   "execution_count": 20,
   "id": "2d0255f0-1346-4059-bc4e-ca124e5e34b5",
   "metadata": {},
   "outputs": [
    {
     "name": "stdout",
     "output_type": "stream",
     "text": [
      "  ProductCategory  total_quantity_sold  average_quantity_sold  \\\n",
      "0        Clothing                   25               5.000000   \n",
      "1     Electronics                    7               1.400000   \n",
      "2       Furniture                    5               1.250000   \n",
      "3         Grocery                   70              11.666667   \n",
      "\n",
      "   transaction_count  \n",
      "0                  5  \n",
      "1                  5  \n",
      "2                  4  \n",
      "3                  6  \n"
     ]
    }
   ],
   "source": [
    "aggregated_metrics = df.groupby('ProductCategory').agg(\n",
    "    total_quantity_sold=('Quantity', 'sum'),      \n",
    "    average_quantity_sold=('Quantity', 'mean'),   \n",
    "    transaction_count=('Quantity', 'count')       \n",
    ").reset_index()\n",
    "\n",
    "print(aggregated_metrics)"
   ]
  }
 ],
 "metadata": {
  "kernelspec": {
   "display_name": "Python 3 (ipykernel)",
   "language": "python",
   "name": "python3"
  },
  "language_info": {
   "codemirror_mode": {
    "name": "ipython",
    "version": 3
   },
   "file_extension": ".py",
   "mimetype": "text/x-python",
   "name": "python",
   "nbconvert_exporter": "python",
   "pygments_lexer": "ipython3",
   "version": "3.12.4"
  }
 },
 "nbformat": 4,
 "nbformat_minor": 5
}
