{
 "cells": [
  {
   "cell_type": "code",
   "execution_count": null,
   "id": "f751226b-3d94-413a-9518-88488c0bc632",
   "metadata": {},
   "outputs": [],
   "source": [
    "import pandas as pd \n",
    "df=pd.read_excel(\"C://Users//sinci//Downloads//Student Dataset.xlsx\")"
   ]
  },
  {
   "cell_type": "code",
   "execution_count": null,
   "id": "6db72750-7f97-42d4-8ca7-e0def1582a3a",
   "metadata": {},
   "outputs": [],
   "source": [
    "df['Group'] = df['ID'].str.extract(r'([A-Za-z]+)')  \n",
    "df['GroupCode'] = df['ID'].str.extract(r'(\\d+)')  \n",
    "\n",
    "print(df[['ID', 'Group', 'GroupCode']])"
   ]
  },
  {
   "cell_type": "code",
   "execution_count": 8,
   "id": "597a6526-83af-4b1c-8477-3a7a6ce9377b",
   "metadata": {},
   "outputs": [
    {
     "name": "stdout",
     "output_type": "stream",
     "text": [
      "        Stream\n",
      "0      Science\n",
      "1          CSE\n",
      "2      Science\n",
      "3          CSE\n",
      "4      Science\n",
      "5          CSE\n",
      "6      Science\n",
      "7          CSE\n",
      "8      Science\n",
      "9          CSE\n",
      "10     Science\n",
      "11         CSE\n",
      "12     Science\n",
      "13         CSE\n",
      "14     Science\n",
      "15         CSE\n",
      "16     Science\n",
      "17         CSE\n",
      "18     Science\n",
      "19         CSE\n",
      "20  Management\n",
      "21         CSE\n",
      "22     Science\n",
      "23         CSE\n",
      "24     Science\n",
      "25  Management\n",
      "26     Science\n",
      "27         CSE\n",
      "28     Science\n",
      "29         CSE\n",
      "30     Science\n",
      "31  Management\n",
      "32  Management\n",
      "33         CSE\n",
      "34     Science\n",
      "35         CSE\n",
      "36  Management\n",
      "37         CSE\n",
      "38     Science\n",
      "39         CSE\n"
     ]
    }
   ],
   "source": [
    "df['Stream'] = df['Stream'].str.replace('Engineering', 'CSE', regex=True)\n",
    "\n",
    "print(df[['Stream']])"
   ]
  },
  {
   "cell_type": "code",
   "execution_count": 2,
   "id": "079472fe-9913-4f83-8efa-4999c043b69c",
   "metadata": {},
   "outputs": [
    {
     "ename": "NameError",
     "evalue": "name 'df' is not defined",
     "output_type": "error",
     "traceback": [
      "\u001b[1;31m---------------------------------------------------------------------------\u001b[0m",
      "\u001b[1;31mNameError\u001b[0m                                 Traceback (most recent call last)",
      "Cell \u001b[1;32mIn[2], line 1\u001b[0m\n\u001b[1;32m----> 1\u001b[0m df[\u001b[38;5;124m'\u001b[39m\u001b[38;5;124mGender\u001b[39m\u001b[38;5;124m'\u001b[39m] \u001b[38;5;241m=\u001b[39m df[\u001b[38;5;124m'\u001b[39m\u001b[38;5;124mGender\u001b[39m\u001b[38;5;124m'\u001b[39m]\u001b[38;5;241m.\u001b[39mstr[\u001b[38;5;241m0\u001b[39m]\n\u001b[0;32m      3\u001b[0m \u001b[38;5;28mprint\u001b[39m(df[[\u001b[38;5;124m'\u001b[39m\u001b[38;5;124mGender\u001b[39m\u001b[38;5;124m'\u001b[39m]])\n",
      "\u001b[1;31mNameError\u001b[0m: name 'df' is not defined"
     ]
    }
   ],
   "source": [
    "df['Gender'] = df['Gender'].str[0]\n",
    "\n",
    "print(df[['Gender']])"
   ]
  },
  {
   "cell_type": "code",
   "execution_count": null,
   "id": "825be3fd-9b3a-42b8-b239-c188765b2a53",
   "metadata": {},
   "outputs": [],
   "source": []
  }
 ],
 "metadata": {
  "kernelspec": {
   "display_name": "Python 3 (ipykernel)",
   "language": "python",
   "name": "python3"
  },
  "language_info": {
   "codemirror_mode": {
    "name": "ipython",
    "version": 3
   },
   "file_extension": ".py",
   "mimetype": "text/x-python",
   "name": "python",
   "nbconvert_exporter": "python",
   "pygments_lexer": "ipython3",
   "version": "3.12.4"
  }
 },
 "nbformat": 4,
 "nbformat_minor": 5
}
