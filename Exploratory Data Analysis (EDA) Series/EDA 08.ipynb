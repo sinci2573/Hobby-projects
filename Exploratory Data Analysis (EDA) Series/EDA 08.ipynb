{
 "cells": [
  {
   "cell_type": "code",
   "execution_count": 36,
   "id": "dd23a286-afcb-4541-838e-7001b4101d56",
   "metadata": {},
   "outputs": [
    {
     "data": {
      "text/html": [
       "<div>\n",
       "<style scoped>\n",
       "    .dataframe tbody tr th:only-of-type {\n",
       "        vertical-align: middle;\n",
       "    }\n",
       "\n",
       "    .dataframe tbody tr th {\n",
       "        vertical-align: top;\n",
       "    }\n",
       "\n",
       "    .dataframe thead th {\n",
       "        text-align: right;\n",
       "    }\n",
       "</style>\n",
       "<table border=\"1\" class=\"dataframe\">\n",
       "  <thead>\n",
       "    <tr style=\"text-align: right;\">\n",
       "      <th></th>\n",
       "      <th>TaxiID</th>\n",
       "      <th>Distance_Covered (km)</th>\n",
       "      <th>Fare_Amount</th>\n",
       "    </tr>\n",
       "  </thead>\n",
       "  <tbody>\n",
       "    <tr>\n",
       "      <th>0</th>\n",
       "      <td>101</td>\n",
       "      <td>12.5</td>\n",
       "      <td>15750</td>\n",
       "    </tr>\n",
       "    <tr>\n",
       "      <th>1</th>\n",
       "      <td>102</td>\n",
       "      <td>8.0</td>\n",
       "      <td>10500</td>\n",
       "    </tr>\n",
       "    <tr>\n",
       "      <th>2</th>\n",
       "      <td>103</td>\n",
       "      <td>15.2</td>\n",
       "      <td>18600</td>\n",
       "    </tr>\n",
       "    <tr>\n",
       "      <th>3</th>\n",
       "      <td>104</td>\n",
       "      <td>7.3</td>\n",
       "      <td>9900</td>\n",
       "    </tr>\n",
       "    <tr>\n",
       "      <th>4</th>\n",
       "      <td>105</td>\n",
       "      <td>20.0</td>\n",
       "      <td>25000</td>\n",
       "    </tr>\n",
       "  </tbody>\n",
       "</table>\n",
       "</div>"
      ],
      "text/plain": [
       "   TaxiID  Distance_Covered (km)  Fare_Amount \n",
       "0     101                   12.5         15750\n",
       "1     102                    8.0         10500\n",
       "2     103                   15.2         18600\n",
       "3     104                    7.3          9900\n",
       "4     105                   20.0         25000"
      ]
     },
     "execution_count": 36,
     "metadata": {},
     "output_type": "execute_result"
    }
   ],
   "source": [
    "import pandas as pd\n",
    "df=pd.read_csv(\"C://Users//sinci//Downloads//taxi dataset.csv\")\n",
    "df.head()"
   ]
  },
  {
   "cell_type": "code",
   "execution_count": 38,
   "id": "2e5e3ac9-58ef-42ff-a450-65510fca21ef",
   "metadata": {},
   "outputs": [],
   "source": [
    "df.columns = df.columns.str.strip()  "
   ]
  },
  {
   "cell_type": "code",
   "execution_count": 40,
   "id": "6b6496e5-64b7-4beb-adac-de3a06d71294",
   "metadata": {},
   "outputs": [],
   "source": [
    "cols = ['Distance_Covered (km)', 'Fare_Amount']"
   ]
  },
  {
   "cell_type": "code",
   "execution_count": 42,
   "id": "d3f0a0ec-1cac-470f-bad3-6da774f3cfc4",
   "metadata": {},
   "outputs": [],
   "source": [
    "from sklearn.preprocessing import MinMaxScaler, StandardScaler\n",
    "min_max = MinMaxScaler().fit_transform(df[cols])\n",
    "min_max_df = pd.DataFrame(min_max, columns=[f\"{c}_MinMax\" for c in cols])"
   ]
  },
  {
   "cell_type": "code",
   "execution_count": 44,
   "id": "0086db94-4b31-4bae-a650-25ccb5f5e749",
   "metadata": {},
   "outputs": [],
   "source": [
    "z_score = StandardScaler().fit_transform(df[cols])\n",
    "z_score_df = pd.DataFrame(z_score, columns=[f\"{c}_ZScore\" for c in cols])"
   ]
  },
  {
   "cell_type": "code",
   "execution_count": 46,
   "id": "5992dc37-47d6-4fba-b0f5-062d44c661e5",
   "metadata": {},
   "outputs": [],
   "source": [
    "result = pd.concat([df[cols], min_max_df, z_score_df], axis=1)"
   ]
  },
  {
   "cell_type": "code",
   "execution_count": 48,
   "id": "52b5c368-6b4d-4d2b-8860-b58e56f5bf49",
   "metadata": {},
   "outputs": [
    {
     "data": {
      "text/html": [
       "<div>\n",
       "<style scoped>\n",
       "    .dataframe tbody tr th:only-of-type {\n",
       "        vertical-align: middle;\n",
       "    }\n",
       "\n",
       "    .dataframe tbody tr th {\n",
       "        vertical-align: top;\n",
       "    }\n",
       "\n",
       "    .dataframe thead th {\n",
       "        text-align: right;\n",
       "    }\n",
       "</style>\n",
       "<table border=\"1\" class=\"dataframe\">\n",
       "  <thead>\n",
       "    <tr style=\"text-align: right;\">\n",
       "      <th></th>\n",
       "      <th>Distance_Covered (km)</th>\n",
       "      <th>Fare_Amount</th>\n",
       "      <th>Distance_Covered (km)_MinMax</th>\n",
       "      <th>Fare_Amount_MinMax</th>\n",
       "      <th>Distance_Covered (km)_ZScore</th>\n",
       "      <th>Fare_Amount_ZScore</th>\n",
       "    </tr>\n",
       "  </thead>\n",
       "  <tbody>\n",
       "    <tr>\n",
       "      <th>0</th>\n",
       "      <td>12.5</td>\n",
       "      <td>15750</td>\n",
       "      <td>0.394737</td>\n",
       "      <td>0.530333</td>\n",
       "      <td>-0.081250</td>\n",
       "      <td>0.233851</td>\n",
       "    </tr>\n",
       "    <tr>\n",
       "      <th>1</th>\n",
       "      <td>8.0</td>\n",
       "      <td>10500</td>\n",
       "      <td>0.157895</td>\n",
       "      <td>0.324853</td>\n",
       "      <td>-0.812498</td>\n",
       "      <td>-0.490111</td>\n",
       "    </tr>\n",
       "    <tr>\n",
       "      <th>2</th>\n",
       "      <td>15.2</td>\n",
       "      <td>18600</td>\n",
       "      <td>0.536842</td>\n",
       "      <td>0.641879</td>\n",
       "      <td>0.357499</td>\n",
       "      <td>0.626859</td>\n",
       "    </tr>\n",
       "    <tr>\n",
       "      <th>3</th>\n",
       "      <td>7.3</td>\n",
       "      <td>9900</td>\n",
       "      <td>0.121053</td>\n",
       "      <td>0.301370</td>\n",
       "      <td>-0.926248</td>\n",
       "      <td>-0.572849</td>\n",
       "    </tr>\n",
       "    <tr>\n",
       "      <th>4</th>\n",
       "      <td>20.0</td>\n",
       "      <td>25000</td>\n",
       "      <td>0.789474</td>\n",
       "      <td>0.892368</td>\n",
       "      <td>1.137497</td>\n",
       "      <td>1.509402</td>\n",
       "    </tr>\n",
       "  </tbody>\n",
       "</table>\n",
       "</div>"
      ],
      "text/plain": [
       "   Distance_Covered (km)  Fare_Amount  Distance_Covered (km)_MinMax  \\\n",
       "0                   12.5        15750                      0.394737   \n",
       "1                    8.0        10500                      0.157895   \n",
       "2                   15.2        18600                      0.536842   \n",
       "3                    7.3         9900                      0.121053   \n",
       "4                   20.0        25000                      0.789474   \n",
       "\n",
       "   Fare_Amount_MinMax  Distance_Covered (km)_ZScore  Fare_Amount_ZScore  \n",
       "0            0.530333                     -0.081250            0.233851  \n",
       "1            0.324853                     -0.812498           -0.490111  \n",
       "2            0.641879                      0.357499            0.626859  \n",
       "3            0.301370                     -0.926248           -0.572849  \n",
       "4            0.892368                      1.137497            1.509402  "
      ]
     },
     "execution_count": 48,
     "metadata": {},
     "output_type": "execute_result"
    }
   ],
   "source": [
    "result.head()"
   ]
  },
  {
   "cell_type": "code",
   "execution_count": null,
   "id": "58f6d5ef-4641-4786-82c6-e11e643e4148",
   "metadata": {},
   "outputs": [],
   "source": []
  }
 ],
 "metadata": {
  "kernelspec": {
   "display_name": "Python 3 (ipykernel)",
   "language": "python",
   "name": "python3"
  },
  "language_info": {
   "codemirror_mode": {
    "name": "ipython",
    "version": 3
   },
   "file_extension": ".py",
   "mimetype": "text/x-python",
   "name": "python",
   "nbconvert_exporter": "python",
   "pygments_lexer": "ipython3",
   "version": "3.12.4"
  }
 },
 "nbformat": 4,
 "nbformat_minor": 5
}
