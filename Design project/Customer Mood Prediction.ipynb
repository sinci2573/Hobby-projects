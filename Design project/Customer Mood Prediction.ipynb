{
 "cells": [
  {
   "cell_type": "code",
   "execution_count": 392,
   "id": "c15fb056-3bf7-4457-89a6-3c88aade3c33",
   "metadata": {},
   "outputs": [
    {
     "name": "stdout",
     "output_type": "stream",
     "text": [
      "<class 'pandas.core.frame.DataFrame'>\n",
      "RangeIndex: 100000 entries, 0 to 99999\n",
      "Data columns (total 11 columns):\n",
      " #   Column              Non-Null Count   Dtype  \n",
      "---  ------              --------------   -----  \n",
      " 0   CustomerID          100000 non-null  int64  \n",
      " 1   ProductID21         100000 non-null  object \n",
      " 2   Quantity            100000 non-null  int64  \n",
      " 3   Price               100000 non-null  float64\n",
      " 4   TransactionDate     100000 non-null  object \n",
      " 5   PaymentMethod       100000 non-null  object \n",
      " 6   StoreLocation       100000 non-null  object \n",
      " 7   ProductCategory     100000 non-null  object \n",
      " 8   DiscountApplied(%)  100000 non-null  float64\n",
      " 9   TotalAmount         100000 non-null  float64\n",
      " 10  ProductID           100000 non-null  object \n",
      "dtypes: float64(3), int64(2), object(6)\n",
      "memory usage: 8.4+ MB\n"
     ]
    },
    {
     "data": {
      "text/plain": [
       "(   CustomerID ProductID21  Quantity      Price   TransactionDate  \\\n",
       " 0      109318           C         7  80.079844  12/26/2023 12:32   \n",
       " 1      993229           C         4  75.195229  08-05-2023 00:00   \n",
       " 2      579675           A         8  31.528816  03-11-2024 18:51   \n",
       " 3      799826           D         5  98.880218  10/27/2023 22:00   \n",
       " 4      121413           A         7  93.188512  12/22/2023 11:38   \n",
       " \n",
       "   PaymentMethod                                      StoreLocation  \\\n",
       " 0          Cash            176 Andrew Cliffs\\nBaileyfort, HI 93354   \n",
       " 1          Cash  11635 William Well Suite 809\\nEast Kara, MT 19483   \n",
       " 2          Cash  910 Mendez Ville Suite 909\\nPort Lauraland, MO...   \n",
       " 3        PayPal  87522 Sharon Corners Suite 500\\nLake Tammy, MO...   \n",
       " 4          Cash   0070 Michelle Island Suite 143\\nHoland, VA 80142   \n",
       " \n",
       "   ProductCategory  DiscountApplied(%)  TotalAmount ProductID  \n",
       " 0           Books           18.677100   455.862764         A  \n",
       " 1      Home Decor           14.121365   258.306546         D  \n",
       " 2           Books           15.943701   212.015651         A  \n",
       " 3           Books            6.686337   461.343769         A  \n",
       " 4     Electronics            4.030096   626.030484         C  ,\n",
       " None)"
      ]
     },
     "execution_count": 392,
     "metadata": {},
     "output_type": "execute_result"
    }
   ],
   "source": [
    "import pandas as pd\n",
    "\n",
    "\n",
    "file_path = \"C://Users//sinci//Downloads//Retail_Transaction_Dataset.csv\"\n",
    "data = pd.read_csv(file_path)\n",
    "\n",
    "\n",
    "data.head(), data.info()"
   ]
  },
  {
   "cell_type": "code",
   "execution_count": 393,
   "id": "74da83c1-739d-4603-af54-432aefa20b72",
   "metadata": {},
   "outputs": [],
   "source": [
    "import tkinter as tk\n",
    "from tkinter import ttk\n",
    "import random\n",
    "import pandas as pd\n",
    "\n",
    "\n",
    "file_path = 'Retail_Transaction_Dataset.csv'  \n",
    "data = pd.read_csv(file_path)\n",
    "\n",
    "\n",
    "mood_product_mapping = {\n",
    "    'Relaxed': ['Books', 'Music', 'Home Decor'],\n",
    "    'Excited': ['Electronics', 'Fashion'],\n",
    "    'Focused': ['Office Supplies', 'Books'],\n",
    "    'Adventurous': ['Sports Equipment', 'Outdoor Gear']\n",
    "}"
   ]
  },
  {
   "cell_type": "code",
   "execution_count": 394,
   "id": "193727e8-616d-4bf8-ac38-b1433495eaa0",
   "metadata": {},
   "outputs": [],
   "source": [
    "product_by_category = data.groupby('ProductCategory')['ProductID'].apply(list).to_dict()\n",
    "product_prices = data.set_index('ProductID')['Price'].to_dict()  \n",
    "product_categories = data.set_index('ProductID')['ProductCategory'].to_dict() "
   ]
  },
  {
   "cell_type": "code",
   "execution_count": 396,
   "id": "37dee74b-2a34-4bc9-821d-5375580b69f9",
   "metadata": {},
   "outputs": [],
   "source": [
    "cart = []"
   ]
  },
  {
   "cell_type": "code",
   "execution_count": 397,
   "id": "d6129b27-6f87-4e89-81d0-f40585c78b9a",
   "metadata": {},
   "outputs": [],
   "source": [
    "def add_to_cart(product_id):\n",
    "    price = product_prices.get(product_id, 0)\n",
    "    category = product_categories.get(product_id, \"Unknown\")\n",
    "    cart.append((product_id, category, price))\n",
    "    update_cart_display()"
   ]
  },
  {
   "cell_type": "code",
   "execution_count": 398,
   "id": "6b0123cd-528f-4cb8-8139-4189690fcc48",
   "metadata": {},
   "outputs": [],
   "source": [
    "def predict_mood():\n",
    "    category_counts = {mood: 0 for mood in mood_product_mapping.keys()}\n",
    "    for _, category, _ in cart:\n",
    "        for mood, categories in mood_product_mapping.items():\n",
    "            if category in categories:\n",
    "                category_counts[mood] += 1\n",
    "\n",
    "  \n",
    "    predicted_mood = max(category_counts, key=category_counts.get)\n",
    "    mood_text.set(f\"Predicted Mood: {predicted_mood}\")\n",
    "    recommend_products(predicted_mood)"
   ]
  },
  {
   "cell_type": "code",
   "execution_count": 399,
   "id": "5404b33d-d349-4eba-9a7d-b189ef06f6c9",
   "metadata": {},
   "outputs": [],
   "source": [
    "def recommend_products(mood):\n",
    "    categories = mood_product_mapping.get(mood, [])\n",
    "    recommendations = []\n",
    "    for category in categories:\n",
    "        if category in product_by_category:\n",
    "           \n",
    "            product_list = product_by_category[category]\n",
    "            if product_list:\n",
    "               \n",
    "                recommendations += random.sample(product_list, min(3, len(product_list)))\n",
    "  \n",
    "    for widget in recommendation_frame.winfo_children():\n",
    "        widget.destroy()\n",
    "   \n",
    "    for product_id in recommendations:\n",
    "        product_text = f\"Product ID: {product_id} - Price: ${product_prices.get(product_id, 'N/A'):.2f}\"\n",
    "        product_label = tk.Label(recommendation_frame, text=product_text, font=(\"Helvetica\", 12), bg=\"#e1f5fe\", fg=\"#0277bd\")\n",
    "        product_label.pack(anchor='w', padx=10, pady=2)"
   ]
  },
  {
   "cell_type": "code",
   "execution_count": 400,
   "id": "aebba706-8619-4047-b51b-08fdd410a9bf",
   "metadata": {},
   "outputs": [],
   "source": [
    "def update_cart_display():\n",
    "   \n",
    "    for widget in cart_frame.winfo_children():\n",
    "        widget.destroy()\n",
    "\n",
    "    total = 0\n",
    "    for product_id, category, price in cart:\n",
    "        cart_item_text = f\"Product ID: {product_id} - Category: {category} - Price: ${price:.2f}\"\n",
    "        cart_item_label = tk.Label(cart_frame, text=cart_item_text, font=(\"Helvetica\", 12), bg=\"#fce4ec\", fg=\"#880e4f\")\n",
    "        cart_item_label.pack(anchor='w', padx=10, pady=2)\n",
    "        total += price\n",
    "   \n",
    "    total_label = tk.Label(cart_frame, text=f\"Total: ${total:.2f}\", font=(\"Helvetica\", 14, \"bold\"), bg=\"#fce4ec\", fg=\"#d81b60\")\n",
    "    total_label.pack(pady=10)\n",
    "    predict_button = tk.Button(cart_frame, text=\"Predict Mood & Recommend Products\", command=predict_mood, font=(\"Helvetica\", 12), bg=\"#8bc34a\", fg=\"white\", padx=10, pady=5)\n",
    "    predict_button.pack(pady=5)"
   ]
  },
  {
   "cell_type": "code",
   "execution_count": 401,
   "id": "f406ac93-689d-410d-9c0d-f3dda8253053",
   "metadata": {},
   "outputs": [],
   "source": [
    "root = tk.Tk()\n",
    "root.title(\"Mood Prediction and Product Recommendation\")\n",
    "root.geometry(\"800x600\")\n",
    "root.config(bg='#ffecb3')"
   ]
  },
  {
   "cell_type": "code",
   "execution_count": 402,
   "id": "0001dfb0-7f4f-4697-ad4e-b100a89ee829",
   "metadata": {},
   "outputs": [],
   "source": [
    "title_label = tk.Label(root, text=\"Shopping Cart & Mood-Based Recommendations\", font=(\"Helvetica\", 18, \"bold\"), bg=\"#ffecb3\", fg=\"#5d4037\")\n",
    "title_label.pack(pady=10)"
   ]
  },
  {
   "cell_type": "code",
   "execution_count": 403,
   "id": "af1e0fdf-a236-4536-9437-60bd383e5a83",
   "metadata": {},
   "outputs": [],
   "source": [
    "product_selection_frame = tk.Frame(root, bg=\"#e1f5fe\", bd=2, relief=\"solid\")\n",
    "product_selection_frame.pack(pady=10, fill=\"x\", padx=20)"
   ]
  },
  {
   "cell_type": "code",
   "execution_count": 404,
   "id": "b87ec041-4483-4c42-9342-08dc5aaba15b",
   "metadata": {},
   "outputs": [],
   "source": [
    "product_selection_label = tk.Label(product_selection_frame, text=\"Select Products to Add to Cart:\", font=(\"Helvetica\", 14), bg=\"#e1f5fe\", fg=\"#0277bd\")\n",
    "product_selection_label.pack(pady=5)"
   ]
  },
  {
   "cell_type": "code",
   "execution_count": 405,
   "id": "74dccf60-84cb-45de-ad4b-f03dee1ea720",
   "metadata": {},
   "outputs": [],
   "source": [
    "sample_products = list(product_by_category.keys())\n",
    "for category in sample_products:\n",
    "    if category in product_by_category:\n",
    "        product_list = product_by_category[category]\n",
    "        if product_list:\n",
    "            product_id = random.choice(product_list)\n",
    "            product_text = f\"Product ID: {product_id} - Category: {category} - Price: ${product_prices.get(product_id, 'N/A'):.2f}\"\n",
    "            product_label = tk.Label(product_selection_frame, text=product_text, font=(\"Helvetica\", 12), bg=\"#e1f5fe\", fg=\"#0277bd\")\n",
    "            product_label.pack(anchor='w', padx=10, pady=2)\n",
    "            add_button = tk.Button(product_selection_frame, text=\"Add to Cart\", command=lambda pid=product_id: add_to_cart(pid), bg=\"#81d4fa\", fg=\"black\")\n",
    "            add_button.pack(anchor='e', padx=10, pady=2)"
   ]
  },
  {
   "cell_type": "code",
   "execution_count": 406,
   "id": "49f863fc-ae8a-4308-ac97-81e3447d95a3",
   "metadata": {},
   "outputs": [],
   "source": [
    "cart_frame = tk.Frame(root, bg=\"#fce4ec\", bd=2, relief=\"solid\")\n",
    "cart_frame.pack(pady=10, fill=\"x\", padx=20)"
   ]
  },
  {
   "cell_type": "code",
   "execution_count": 407,
   "id": "97e3e8b8-8aa7-40e4-bf24-1472cf14d737",
   "metadata": {},
   "outputs": [],
   "source": [
    "mood_text = tk.StringVar(value=\"Your predicted mood will appear here.\")\n",
    "mood_label = tk.Label(root, textvariable=mood_text, font=(\"Helvetica\", 14, \"italic\"), bg=\"#ffecb3\", fg=\"#5d4037\")\n",
    "mood_label.pack(pady=5)"
   ]
  },
  {
   "cell_type": "code",
   "execution_count": 408,
   "id": "1b9425cc-6ed0-434e-9c13-3c42159cff43",
   "metadata": {},
   "outputs": [],
   "source": [
    "recommendation_frame = tk.Frame(root, bg=\"#e1f5fe\", bd=2, relief=\"solid\")\n",
    "recommendation_frame.pack(pady=10, fill=\"x\", padx=20)"
   ]
  },
  {
   "cell_type": "code",
   "execution_count": 409,
   "id": "7ab00590-0076-4148-ab6f-7c3338b2be8d",
   "metadata": {},
   "outputs": [],
   "source": [
    "initial_cart_text = tk.Label(cart_frame, text=\"Your shopping cart will appear here.\", font=(\"Helvetica\", 12), bg=\"#fce4ec\", fg=\"#880e4f\")\n",
    "initial_cart_text.pack(pady=5)"
   ]
  },
  {
   "cell_type": "code",
   "execution_count": 410,
   "id": "645d716e-f8de-43e2-aebc-4e1df6e6ae23",
   "metadata": {},
   "outputs": [],
   "source": [
    "initial_recommendation_text = tk.Label(recommendation_frame, text=\"Product recommendations will appear here after mood prediction.\", font=(\"Helvetica\", 12), bg=\"#e1f5fe\", fg=\"#0277bd\")\n",
    "initial_recommendation_text.pack(pady=5)"
   ]
  },
  {
   "cell_type": "code",
   "execution_count": 411,
   "id": "fa071957-a96b-41ce-953b-a9631830cd60",
   "metadata": {},
   "outputs": [],
   "source": [
    "root.mainloop()"
   ]
  },
  {
   "cell_type": "code",
   "execution_count": null,
   "id": "620280ac-ff4b-4660-a33d-ec10f89c47fd",
   "metadata": {},
   "outputs": [],
   "source": []
  },
  {
   "cell_type": "code",
   "execution_count": null,
   "id": "55679c20-deab-44ef-9b4e-c71fe2a1bc3b",
   "metadata": {},
   "outputs": [],
   "source": []
  },
  {
   "cell_type": "code",
   "execution_count": null,
   "id": "7a927456-b683-447b-853f-cac383ffadaa",
   "metadata": {},
   "outputs": [],
   "source": []
  }
 ],
 "metadata": {
  "kernelspec": {
   "display_name": "Python 3 (ipykernel)",
   "language": "python",
   "name": "python3"
  },
  "language_info": {
   "codemirror_mode": {
    "name": "ipython",
    "version": 3
   },
   "file_extension": ".py",
   "mimetype": "text/x-python",
   "name": "python",
   "nbconvert_exporter": "python",
   "pygments_lexer": "ipython3",
   "version": "3.12.4"
  }
 },
 "nbformat": 4,
 "nbformat_minor": 5
}
